{
 "cells": [
  {
   "cell_type": "code",
   "execution_count": 1,
   "metadata": {},
   "outputs": [],
   "source": [
    "import pandas as pd\n",
    "import numpy as np\n",
    "from pyecharts import Bar"
   ]
  },
  {
   "cell_type": "code",
   "execution_count": 3,
   "metadata": {},
   "outputs": [],
   "source": [
    "title = 'test'\n",
    "index = pd.date_range('2017-01-01',periods=6, freq='M')\n",
    "\n",
    "df1 = pd.DataFrame(np.random.randn(6), index=index)\n",
    "df2 = pd.DataFrame(np.random.randn(6), index=index)\n",
    "\n",
    "bar = Bar(title, 'ddd')\n",
    "bar.add('a',index,df1[0])\n",
    "\n",
    "bar.add('b',index, df2[0])\n",
    "\n",
    "bar.render()"
   ]
  },
  {
   "cell_type": "code",
   "execution_count": 4,
   "metadata": {},
   "outputs": [
    {
     "name": "stdout",
     "output_type": "stream",
     "text": [
      "DataFrame.ipynb Untitled.ipynb  numpy.ipynb\r\n",
      "Series.ipynb    Untitled1.ipynb render.html\r\n"
     ]
    }
   ],
   "source": [
    "!ls"
   ]
  },
  {
   "cell_type": "code",
   "execution_count": 35,
   "metadata": {},
   "outputs": [
    {
     "name": "stdout",
     "output_type": "stream",
     "text": [
      "DataFrame.ipynb  Untitled.ipynb   render.html\r\n",
      "Series.ipynb     numpy.ipynb\r\n"
     ]
    }
   ],
   "source": [
    "ls"
   ]
  },
  {
   "cell_type": "code",
   "execution_count": 74,
   "metadata": {},
   "outputs": [],
   "source": [
    "import tushare as ts\n",
    "?ts.get_h_data\n"
   ]
  },
  {
   "cell_type": "code",
   "execution_count": 75,
   "metadata": {},
   "outputs": [
    {
     "name": "stdout",
     "output_type": "stream",
     "text": [
      "[Getting data:]########################################################################################################"
     ]
    },
    {
     "name": "stderr",
     "output_type": "stream",
     "text": [
      "/u01/virtualenv/mystock/lib/python3.6/site-packages/ipykernel_launcher.py:9: FutureWarning: how in .resample() is deprecated\n",
      "the new syntax is .resample(...)..apply(<func>)\n",
      "  if __name__ == '__main__':\n"
     ]
    }
   ],
   "source": [
    "df = ts.get_h_data('000001', start='1992-01-01')\n",
    "df.index = pd.DatetimeIndex(df.index)\n",
    "week_df = df.resample('M',                                 # Weekly resample\n",
    "                           how={'open': 'first',\n",
    "                                'high': 'max',\n",
    "                                'low': 'min',\n",
    "                                'close': 'last',\n",
    "                                'volume': 'sum'},\n",
    "                           loffset=pd.offsets.timedelta(days=-6)) "
   ]
  },
  {
   "cell_type": "code",
   "execution_count": 85,
   "metadata": {},
   "outputs": [
    {
     "name": "stderr",
     "output_type": "stream",
     "text": [
      "/u01/virtualenv/mystock/lib/python3.6/site-packages/ipykernel_launcher.py:7: FutureWarning: how in .resample() is deprecated\n",
      "the new syntax is .resample(...)..apply(<func>)\n",
      "  import sys\n"
     ]
    }
   ],
   "source": [
    "week_df = df.resample('m',                                 # Weekly resample\n",
    "                           how={'open': 'first',\n",
    "                                'high': 'max',\n",
    "                                'low': 'min',\n",
    "                                'close': 'last',\n",
    "                                'volume': 'sum'},\n",
    "                           loffset=pd.offsets.timedelta(days=-6)) \n",
    "\n",
    "\n",
    "\n",
    "from pyecharts import Kline\n",
    "kline = Kline(title= 'test',subtitle='000001')\n",
    "kline.add('oh',week_df.index, week_df[['open', 'close', 'low', 'high']].values)\n"
   ]
  },
  {
   "cell_type": "code",
   "execution_count": 86,
   "metadata": {},
   "outputs": [],
   "source": [
    "kline.render(path='/tmp/a.html')"
   ]
  },
  {
   "cell_type": "code",
   "execution_count": 56,
   "metadata": {},
   "outputs": [
    {
     "data": {
      "text/plain": [
       "array([[ 14.45,  14.2 ,  14.  ,  14.47],\n",
       "       [ 14.66,  14.64,  14.5 ,  15.08],\n",
       "       [ 14.36,  14.65,  14.33,  14.9 ],\n",
       "       ..., \n",
       "       [ 13.82,  13.9 ,  13.75,  14.01],\n",
       "       [ 13.87,  14.06,  13.8 ,  14.3 ],\n",
       "       [ 14.35,  13.99,  13.83,  14.37]])"
      ]
     },
     "execution_count": 56,
     "metadata": {},
     "output_type": "execute_result"
    }
   ],
   "source": [
    "df[['open', 'close', 'low', 'high']].values"
   ]
  },
  {
   "cell_type": "code",
   "execution_count": null,
   "metadata": {},
   "outputs": [],
   "source": []
  }
 ],
 "metadata": {
  "kernelspec": {
   "display_name": "Python 3",
   "language": "python",
   "name": "python3"
  },
  "language_info": {
   "codemirror_mode": {
    "name": "ipython",
    "version": 3
   },
   "file_extension": ".py",
   "mimetype": "text/x-python",
   "name": "python",
   "nbconvert_exporter": "python",
   "pygments_lexer": "ipython3",
   "version": "3.6.1"
  }
 },
 "nbformat": 4,
 "nbformat_minor": 2
}
