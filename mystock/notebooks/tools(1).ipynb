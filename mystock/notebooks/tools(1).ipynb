{
 "cells": [
  {
   "cell_type": "code",
   "execution_count": 1,
   "metadata": {},
   "outputs": [],
   "source": [
    "import os\n",
    "import pandas as pd\n",
    "STOCK_DIR = '/data/stock/tdx/'\n",
    "def get_df(code, start=None, end=None):\n",
    "    file_name = '%s/%s#%s.txt' % (STOCK_DIR, 'SH', code)\n",
    "    if not os.path.exists(file_name):\n",
    "        file_name = '%s/%s#%s.txt' % (STOCK_DIR, 'SZ', code)\n",
    "    \n",
    "    df = pd.read_csv(file_name, skipfooter=1, skiprows=1,engine='python', encoding='gbk', sep='\\t')\n",
    "    df.columns = ['date','open','high','low','close','vol','amount']\n",
    "    df.index = pd.DatetimeIndex(df['date'])\n",
    "    del df['date']\n",
    "    \n",
    "    if start:\n",
    "        df = df[df.index >= start]\n",
    "        \n",
    "    if end:\n",
    "        df = df[df.index <= end]\n",
    "    return df\n"
   ]
  },
  {
   "cell_type": "code",
   "execution_count": 2,
   "metadata": {},
   "outputs": [],
   "source": [
    "def get_list(where=''):\n",
    "    for  dirpath, dirnames, filenames in os.walk(STOCK_DIR):\n",
    "        return [f.split('#')[1].split('.')[0] for f in filenames if f.find(where) >= 0 or not where ]\n",
    "\n",
    "def get_sh_list():\n",
    "    return get_list('SH')\n",
    "\n",
    "def get_sz_list():\n",
    "    return get_list('SZ')"
   ]
  },
  {
   "cell_type": "code",
   "execution_count": 5,
   "metadata": {},
   "outputs": [],
   "source": [
    "def get_pct_change_cumprod(code, start, end):\n",
    "    df = get_df(code, start, end)\n",
    "    df = (1 + df.pct_change()).cumprod() - 1\n",
    "    \n",
    "    if df is not None and not df.empty:\n",
    "        df.iloc[0] = 0\n",
    "    \n",
    "    return df\n",
    "\n",
    "def get_max_drop_range(code, start, end):\n",
    "    df = get_pct_change_cumprod(code, start, end)\n",
    "    if df is None or df.empty:\n",
    "        return 0\n",
    "    return min(df.high)\n",
    "#     idxmax = df.high.idxmax()\n",
    "#     idxmin = df.high.idxmin()\n",
    "#     if idxmin < idxmax:\n",
    "#         return min(df.high)\n",
    "#     else:\n",
    "#         return max(df.high)\n",
    "    \n",
    "    \n",
    "df = get_max_drop_range('601600', '2015-06-15', '2018-01-31')\n",
    "\n",
    "df = all_max_drop_range\n",
    " "
   ]
  },
  {
   "cell_type": "code",
   "execution_count": 7,
   "metadata": {},
   "outputs": [
    {
     "data": {
      "text/plain": [
       "-0.6418338108882522"
      ]
     },
     "execution_count": 7,
     "metadata": {},
     "output_type": "execute_result"
    }
   ],
   "source": [
    "df\n",
    " "
   ]
  },
  {
   "cell_type": "code",
   "execution_count": 77,
   "metadata": {},
   "outputs": [
    {
     "data": {
      "text/plain": [
       "<bound method DataFrame.prod of Empty DataFrame\n",
       "Columns: []\n",
       "Index: []>"
      ]
     },
     "execution_count": 77,
     "metadata": {},
     "output_type": "execute_result"
    }
   ],
   "source": []
  },
  {
   "cell_type": "code",
   "execution_count": null,
   "metadata": {},
   "outputs": [],
   "source": []
  }
 ],
 "metadata": {
  "kernelspec": {
   "display_name": "Python 3",
   "language": "python",
   "name": "python3"
  },
  "language_info": {
   "codemirror_mode": {
    "name": "ipython",
    "version": 3
   },
   "file_extension": ".py",
   "mimetype": "text/x-python",
   "name": "python",
   "nbconvert_exporter": "python",
   "pygments_lexer": "ipython3",
   "version": "3.6.1"
  }
 },
 "nbformat": 4,
 "nbformat_minor": 2
}
